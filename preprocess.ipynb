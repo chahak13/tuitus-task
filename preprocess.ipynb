{
 "cells": [
  {
   "cell_type": "markdown",
   "metadata": {},
   "source": [
    "# CB-Geo MPM \n",
    "> Krishna Kumar, UT Austin\n",
    "\n",
    "## Pre-process\n",
    "This example shows how to generate input files for CB-Geo MPM."
   ]
  },
  {
   "cell_type": "code",
   "execution_count": null,
   "metadata": {},
   "outputs": [],
   "source": [
    "# !pip install pycbg"
   ]
  },
  {
   "cell_type": "code",
   "execution_count": null,
   "metadata": {
    "tags": [
     "parameters"
    ]
   },
   "outputs": [],
   "source": [
    "# papermill parameters\n",
    "npart_perdim_percell = 1"
   ]
  },
  {
   "cell_type": "code",
   "execution_count": null,
   "metadata": {},
   "outputs": [],
   "source": [
    "import pycbg.preprocessing as utl\n",
    "\n",
    "# The usual start of a PyCBG script:\n",
    "sim = utl.Simulation(title=\"Two_materials_column\")\n",
    "\n",
    "# Creating the mesh:\n",
    "sim.create_mesh(dimensions=(1.,1.,10.), ncells=(1,1,10))\n",
    "\n",
    "# Creating Material Points, could have been done by filling an array manually:\n",
    "sim.create_particles(npart_perdim_percell=npart_perdim_percell)\n",
    "\n",
    "# Creating entity sets (the 2 materials), using lambda functions:\n",
    "sim.init_entity_sets()\n",
    "lower_particles = sim.entity_sets.create_set(lambda x,y,z: z<5, typ=\"particle\")\n",
    "upper_particles = sim.entity_sets.create_set(lambda x,y,z: z>=5, typ=\"particle\")\n",
    "\n",
    "# The materials properties:\n",
    "sim.materials.create_MohrCoulomb3D(pset_id=lower_particles)\n",
    "sim.materials.create_Newtonian3D(pset_id=upper_particles)\n",
    "\n",
    "# Boundary conditions on nodes entity sets (blocked displacements):\n",
    "walls = []\n",
    "walls.append([sim.entity_sets.create_set(lambda x,y,z: x==lim, typ=\"node\") for lim in [0, sim.mesh.l0]])\n",
    "walls.append([sim.entity_sets.create_set(lambda x,y,z: y==lim, typ=\"node\") for lim in [0, sim.mesh.l1]])\n",
    "walls.append([sim.entity_sets.create_set(lambda x,y,z: z==lim, typ=\"node\") for lim in [0, sim.mesh.l2]])\n",
    "for direction, sets in enumerate(walls): _ = [sim.add_velocity_condition(direction, 0., es) for es in sets]\n",
    "\n",
    "# Other simulation parameters (gravity, number of iterations, time step, ..):\n",
    "sim.set_gravity([0,0,-9.81])\n",
    "nsteps = 1.5e5\n",
    "sim.set_analysis_parameters(dt=1e-3, nsteps=nsteps, output_step_interval=nsteps/100)\n",
    "\n",
    "# Save user defined parameters to be reused at the postprocessing stage:\n",
    "sim.add_custom_parameters({\"lower_particles\": lower_particles,\n",
    "                           \"upper_particles\": upper_particles,\n",
    "                           \"walls\": walls})\n",
    "\n",
    "# Final generation of input files:\n",
    "sim.write_input_file()"
   ]
  }
 ],
 "metadata": {
  "interpreter": {
   "hash": "b0fa6594d8f4cbf19f97940f81e996739fb7646882a419484c72d19e05852a7e"
  },
  "kernelspec": {
   "display_name": "Python 3 (ipykernel)",
   "language": "python",
   "name": "python3"
  },
  "language_info": {
   "codemirror_mode": {
    "name": "ipython",
    "version": 3
   },
   "file_extension": ".py",
   "mimetype": "text/x-python",
   "name": "python",
   "nbconvert_exporter": "python",
   "pygments_lexer": "ipython3",
   "version": "3.10.8"
  }
 },
 "nbformat": 4,
 "nbformat_minor": 4
}
